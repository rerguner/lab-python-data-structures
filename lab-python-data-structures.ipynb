{
 "cells": [
  {
   "cell_type": "markdown",
   "metadata": {
    "tags": []
   },
   "source": [
    "# Lab | Data Structures "
   ]
  },
  {
   "cell_type": "markdown",
   "metadata": {},
   "source": [
    "## Exercise: Managing Customer Orders\n",
    "\n",
    "As part of a business venture, you are starting an online store that sells various products. To ensure smooth operations, you need to develop a program that manages customer orders and inventory.\n",
    "\n",
    "Follow the steps below to complete the exercise:\n",
    "\n",
    "1. Define a list called `products` that contains the following items: \"t-shirt\", \"mug\", \"hat\", \"book\", \"keychain\".\n",
    "\n",
    "2. Create an empty dictionary called `inventory`.\n",
    "\n",
    "3. Ask the user to input the quantity of each product available in the inventory. Use the product names from the `products` list as keys in the `inventory` dictionary and assign the respective quantities as values.\n",
    "\n",
    "4. Create an empty set called `customer_orders`.\n",
    "\n",
    "5. Ask the user to input the name of three products that a customer wants to order (from those in the products list, meaning three products out of \"t-shirt\", \"mug\", \"hat\", \"book\" or \"keychain\". Add each product name to the `customer_orders` set.\n",
    "\n",
    "6. Print the products in the `customer_orders` set.\n",
    "\n",
    "7. Calculate the following order statistics:\n",
    "   - Total Products Ordered: The total number of products in the `customer_orders` set.\n",
    "   - Percentage of Products Ordered: The percentage of products ordered compared to the total available products.\n",
    "   \n",
    "   Store these statistics in a tuple called `order_status`.\n",
    "\n",
    "8. Print the order statistics using the following format:\n",
    "   ```\n",
    "   Order Statistics:\n",
    "   Total Products Ordered: <total_products_ordered>\n",
    "   Percentage of Products Ordered: <percentage_ordered>% \n",
    "   ```\n",
    "\n",
    "9. Update the inventory by subtracting 1 from the quantity of each product. Modify the `inventory` dictionary accordingly.\n",
    "\n",
    "10. Print the updated inventory, displaying the quantity of each product on separate lines.\n",
    "\n",
    "Solve the exercise by implementing the steps using the Python concepts of lists, dictionaries, sets, and basic input/output operations. "
   ]
  },
  {
   "cell_type": "code",
   "execution_count": 6,
   "metadata": {},
   "outputs": [
    {
     "name": "stdout",
     "output_type": "stream",
     "text": [
      "Available Inventory: dict_items([('t-shirt', 1), ('mug', 1), ('hat', 1), ('book', 1), ('keychain', 1)])\n",
      "Customer Order: {'hat', 'book', 'mug'}\n",
      "Order Statistics:\n",
      "Total Number of Products Ordered: 3\n",
      "Percentage of Products Ordered: 60.0%\n",
      "Updated Inventory: dict_items([('t-shirt', 1), ('mug', 0), ('hat', 0), ('book', 0), ('keychain', 1)])\n"
     ]
    }
   ],
   "source": [
    "# Define a list called `products` that contains the following items: \"t-shirt\", \"mug\", \"hat\", \"book\", \"keychain\".\n",
    "# Create an empty dictionary called `inventory`.\n",
    "products = ['t-shirt', 'mug', 'hat', 'book', 'keychain']\n",
    "inventory = {}\n",
    "\n",
    "# Ask the user to input the quantity of each product available in the inventory. \n",
    "# Use the product names from the `products` list as keys in the `inventory` dictionary and assign the respective quantities as values.\n",
    "\n",
    "inventory[products[0]] = int(input(f\"Enter {products[0]} Quantity: \"))\n",
    "inventory[products[1]] = int(input(f\"Enter {products[1]} Quantity: \"))\n",
    "inventory[products[2]] = int(input(f\"Enter {products[2]} Quantity: \"))\n",
    "inventory[products[3]] = int(input(f\"Enter {products[3]} Quantity: \"))\n",
    "inventory[products[4]] = int(input(f\"Enter {products[4]} Quantity: \"))\n",
    "total_inventory = sum(inventory.values())\n",
    "\n",
    "#Create an empty set called `customer_orders`.\n",
    "customer_orders = set()\n",
    "\n",
    "#Ask the user to input the name of three products that a customer wants to order (from those in the products list, meaning three products out of \"t-shirt\", \"mug\", \"hat\", \"book\" or \"keychain\". \n",
    "#Add each product name to the `customer_orders` set.\n",
    "print(f\"Available Inventory:\",\n",
    "      inventory.items())\n",
    "\n",
    "\n",
    "customer_orders.add(input(\"Enter Ordered Product 1: \"))\n",
    "customer_orders.add(input(\"Enter Ordered Product 2: \"))\n",
    "customer_orders.add(input(\"Enter Ordered Product 3: \"))\n",
    "\n",
    "#Print the products in the `customer_orders` set.\n",
    "print(f\"Customer Order: {customer_orders}\")\n",
    "\n",
    "#Calculate the following order statistics:\n",
    "   # Total Products Ordered: The total number of products in the `customer_orders` set.\n",
    "   # Percentage of Products Ordered: The percentage of products ordered compared to the total available products.  \n",
    "#Store these statistics in a tuple called `order_status`.\n",
    "\n",
    "total_products_ordered = len(customer_orders)\n",
    "percentage_of_products_ordered = (total_products_ordered/total_inventory)*100\n",
    "print(\"Order Statistics:\")\n",
    "print(f\"Total Number of Products Ordered: {total_products_ordered}\")\n",
    "print(f\"Percentage of Products Ordered: {percentage_of_products_ordered}%\")\n",
    "\n",
    "#Store these statistics in a tuple called `order_status`\n",
    "order_status = (total_products_ordered, percentage_of_products_ordered)\n",
    "\n",
    "#Update the inventory by subtracting 1 from the quantity of each product. Modify the `inventory` dictionary accordingly.\n",
    "for product in customer_orders:\n",
    "    inventory[product] -= 1\n",
    "\n",
    "#Print the updated inventory, displaying the quantity of each product on separate lines.\n",
    "print(\"Updated Inventory:\",\n",
    "      inventory.items())\n"
   ]
  },
  {
   "cell_type": "code",
   "execution_count": null,
   "metadata": {},
   "outputs": [],
   "source": []
  }
 ],
 "metadata": {
  "kernelspec": {
   "display_name": "base",
   "language": "python",
   "name": "python3"
  },
  "language_info": {
   "codemirror_mode": {
    "name": "ipython",
    "version": 3
   },
   "file_extension": ".py",
   "mimetype": "text/x-python",
   "name": "python",
   "nbconvert_exporter": "python",
   "pygments_lexer": "ipython3",
   "version": "3.12.7"
  }
 },
 "nbformat": 4,
 "nbformat_minor": 4
}
